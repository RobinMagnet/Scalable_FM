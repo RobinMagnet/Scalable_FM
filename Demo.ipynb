{
 "cells": [
  {
   "cell_type": "code",
   "execution_count": null,
   "id": "6ba85917",
   "metadata": {
    "ExecuteTime": {
     "end_time": "2023-06-07T16:42:58.835991Z",
     "start_time": "2023-06-07T16:42:57.756529Z"
    }
   },
   "outputs": [],
   "source": [
    "import sys, os\n",
    "\n",
    "sys.path.append(\"./pyFM/\")  # My code builds on the pyFM.mesh.TriMesh class\n",
    "sys.path.append(\"./VisualizationTools/\")  # This is just for visualization purposes"
   ]
  },
  {
   "cell_type": "code",
   "execution_count": null,
   "id": "916bb569",
   "metadata": {
    "ExecuteTime": {
     "end_time": "2023-06-07T16:43:00.196971Z",
     "start_time": "2023-06-07T16:42:58.838711Z"
    }
   },
   "outputs": [],
   "source": [
    "import dense_mesh as dm\n",
    "import VisualizationTools as plu\n",
    "\n",
    "from pyFM.mesh import TriMesh"
   ]
  },
  {
   "cell_type": "markdown",
   "id": "836ae698",
   "metadata": {},
   "source": [
    "# 1 - Computing the approximate spectrum for a dense mesh"
   ]
  },
  {
   "cell_type": "code",
   "execution_count": null,
   "id": "190f43cb",
   "metadata": {
    "ExecuteTime": {
     "end_time": "2023-06-07T16:43:53.030893Z",
     "start_time": "2023-06-07T16:43:51.710503Z"
    }
   },
   "outputs": [],
   "source": [
    "# Load mesh, normalize and center for simplicity\n",
    "mesh1 = TriMesh(\"./data/40.off\", area_normalize=True, center=True).process(\n",
    "    k=0, intrinsic=True\n",
    ")\n",
    "mesh1.n_vertices"
   ]
  },
  {
   "cell_type": "code",
   "execution_count": null,
   "id": "8ecc8e52",
   "metadata": {
    "ExecuteTime": {
     "end_time": "2023-06-07T16:44:11.363256Z",
     "start_time": "2023-06-07T16:44:11.284827Z"
    }
   },
   "outputs": [],
   "source": [
    "# Define parameters for the process\n",
    "process_params = {\n",
    "    \"dist_ratio\": 3,  # rho = dist_ratio * average_radius\n",
    "    \"self_weight_limit\": 0.25,  # Minimum value for self weight\n",
    "    \"correct_dist\": False,\n",
    "    \"interpolation\": \"poly\",\n",
    "    \"return_dist\": True,\n",
    "    \"adapt_radius\": True,\n",
    "    \"update_sample\": True,\n",
    "    \"n_jobs\": 10,\n",
    "    \"n_clusters\": 5,\n",
    "    \"force_n_samples\": False,\n",
    "    \"verbose\": True,\n",
    "}\n",
    "n_samples = 2000\n",
    "\n",
    "# Check the docstring for the meaning of each parameter\n",
    "print(dm.process_mesh.__doc__)"
   ]
  },
  {
   "cell_type": "code",
   "execution_count": null,
   "id": "b9bb2c7e",
   "metadata": {
    "ExecuteTime": {
     "end_time": "2023-06-07T16:44:14.170489Z",
     "start_time": "2023-06-07T16:44:11.579780Z"
    }
   },
   "outputs": [],
   "source": [
    "# Computes the approximate spectrum, Wb is used for \\overline{W} and Ab for \\overline{A}\n",
    "# Evects1 are values at samples of sub1, distmat1 is the distance matrix\n",
    "# Dense N1 x K eigenvector matrix can be obtained with U1 @ evects1\n",
    "U1, Ab1, Wb1, sub1, distmat1 = dm.process_mesh(mesh1, n_samples, **process_params)\n",
    "evals1, evects1 = dm.get_approx_spectrum(Wb1, Ab1, verbose=True)"
   ]
  },
  {
   "cell_type": "code",
   "execution_count": null,
   "id": "9716eb68",
   "metadata": {
    "ExecuteTime": {
     "end_time": "2023-06-07T16:44:14.322745Z",
     "start_time": "2023-06-07T16:44:14.253815Z"
    }
   },
   "outputs": [],
   "source": [
    "# Visualize the spectrum as values at the samples of sub1\n",
    "plu.plot(mesh1, points=sub1, cmap_p=evects1[:, 1], colormap=\"coolwarm\")"
   ]
  },
  {
   "cell_type": "code",
   "execution_count": null,
   "id": "8dc938a9",
   "metadata": {},
   "outputs": [],
   "source": [
    "# You can also check the \"dense\" eigenvector\n",
    "plu.plot(mesh1, cmap=U1 @ evects1[:, 1], colormap=\"coolwarm\")"
   ]
  },
  {
   "cell_type": "markdown",
   "id": "4c59ebcd",
   "metadata": {},
   "source": [
    "# 2 - Shape Matching using approximate spectrum"
   ]
  },
  {
   "cell_type": "code",
   "execution_count": null,
   "id": "5438c826",
   "metadata": {},
   "outputs": [],
   "source": [
    "# Let's first load the meshes\n",
    "\n",
    "mesh1 = TriMesh(\"./data/13.off\", area_normalize=True, center=True).process(\n",
    "    k=0, intrinsic=True\n",
    ")\n",
    "mesh2 = TriMesh(\"./data/42.off\", area_normalize=True, center=True).process(\n",
    "    k=0, intrinsic=True\n",
    ")\n",
    "\n",
    "plu.double_plot(mesh1, mesh2)"
   ]
  },
  {
   "cell_type": "code",
   "execution_count": null,
   "id": "1584cb85",
   "metadata": {},
   "outputs": [],
   "source": [
    "# Define parameters for the process\n",
    "process_params = {\n",
    "    \"dist_ratio\": 3,  # rho = dist_ratio * average_radius\n",
    "    \"self_weight_limit\": 0.25,  # Minimum value for self weight\n",
    "    \"correct_dist\": False,\n",
    "    \"interpolation\": \"poly\",\n",
    "    \"return_dist\": True,\n",
    "    \"adapt_radius\": True,\n",
    "    \"update_sample\": True,\n",
    "    \"n_jobs\": 10,\n",
    "    \"force_n_samples\": False,\n",
    "    \"verbose\": True,\n",
    "}\n",
    "\n",
    "\n",
    "n_samples = 2000"
   ]
  },
  {
   "cell_type": "code",
   "execution_count": null,
   "id": "1114b069",
   "metadata": {},
   "outputs": [],
   "source": [
    "U1, Ab1, Wb1, sub1, distmat1 = dm.process_mesh(mesh1, n_samples, **process_params)\n",
    "evals1, evects1 = dm.get_approx_spectrum(Wb1, Ab1, verbose=True)\n",
    "\n",
    "U2, Ab2, Wb2, sub2, distmat2 = dm.process_mesh(mesh2, n_samples, **process_params)\n",
    "evals2, evects2 = dm.get_approx_spectrum(Wb2, Ab2, verbose=True)"
   ]
  },
  {
   "cell_type": "code",
   "execution_count": null,
   "id": "2a0cba03",
   "metadata": {},
   "outputs": [],
   "source": [
    "import pyFM.spectral as spectral\n",
    "from pyFM.spectral.nn_utils import knn_query\n",
    "from pyFM.refine.zoomout import zoomout_refine\n",
    "\n",
    "import matplotlib.pyplot as plt"
   ]
  },
  {
   "cell_type": "code",
   "execution_count": null,
   "id": "1582cde8",
   "metadata": {},
   "outputs": [],
   "source": [
    "# Compute an initial approximate functional map\n",
    "p2p_21_sub_init = knn_query(mesh1.vertices[sub1], mesh2.vertices[sub2], k=1, n_jobs=10)\n",
    "# We compute the initial functional map using the approximate spectrum here (same method that will be used inside ZoomOut)\n",
    "FM_12_init = spectral.p2p_to_FM(\n",
    "    p2p_21_sub_init, evects1[:, :20], evects2[:, :20], A2=Ab2\n",
    ")\n",
    "\n",
    "plt.imshow(FM_12_init, cmap=\"coolwarm\")"
   ]
  },
  {
   "cell_type": "code",
   "execution_count": null,
   "id": "27e2e5c2",
   "metadata": {},
   "outputs": [],
   "source": [
    "# You can perform ZoomOut like if you had resampled the whole mesh. This gives you a funcitonal map and a point-to-point map between the two samples (not the whole meshes)\n",
    "FM_12_zo, p2p_21_sub_zo = zoomout_refine(\n",
    "    FM_12_init,\n",
    "    evects1,\n",
    "    evects2,\n",
    "    nit=16,\n",
    "    step=5,\n",
    "    A2=Ab2,\n",
    "    return_p2p=True,\n",
    "    n_jobs=10,\n",
    "    verbose=True,\n",
    ")"
   ]
  },
  {
   "cell_type": "code",
   "execution_count": null,
   "id": "72373a38",
   "metadata": {},
   "outputs": [],
   "source": [
    "# If you need a dense point-to-point map, you can use FM_12_zo as the functional map between the dense shapes. If needed, an accelerated version of this is described in the paper, but I found that its implementation is very machine-dependant.\n",
    "p2p_21_zo = spectral.FM_to_p2p(FM_12_zo, U1 @ evects1, U2 @ evects2, n_jobs=10)"
   ]
  },
  {
   "cell_type": "code",
   "execution_count": null,
   "id": "ef6e8a20",
   "metadata": {},
   "outputs": [],
   "source": [
    "plu.plot_p2p(mesh1, mesh2, p2p_21_zo, pretty=True)"
   ]
  }
 ],
 "metadata": {
  "kernelspec": {
   "display_name": "Python 3 (ipykernel)",
   "language": "python",
   "name": "python3"
  },
  "language_info": {
   "codemirror_mode": {
    "name": "ipython",
    "version": 3
   },
   "file_extension": ".py",
   "mimetype": "text/x-python",
   "name": "python",
   "nbconvert_exporter": "python",
   "pygments_lexer": "ipython3",
   "version": "3.12.2"
  },
  "toc": {
   "base_numbering": 1,
   "nav_menu": {},
   "number_sections": true,
   "sideBar": true,
   "skip_h1_title": false,
   "title_cell": "Table of Contents",
   "title_sidebar": "Contents",
   "toc_cell": false,
   "toc_position": {},
   "toc_section_display": true,
   "toc_window_display": false
  }
 },
 "nbformat": 4,
 "nbformat_minor": 5
}
