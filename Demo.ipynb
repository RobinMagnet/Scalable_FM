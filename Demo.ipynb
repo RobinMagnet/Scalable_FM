{
 "cells": [
  {
   "cell_type": "code",
   "execution_count": null,
   "id": "6ba85917",
   "metadata": {
    "ExecuteTime": {
     "end_time": "2023-06-07T16:42:58.835991Z",
     "start_time": "2023-06-07T16:42:57.756529Z"
    }
   },
   "outputs": [],
   "source": [
    "%load_ext autoreload\n",
    "%autoreload 2\n",
    "%matplotlib inline\n",
    "%config Completer.use_jedi = True\n",
    "# from IPython.core.interactiveshell import InteractiveShell\n",
    "# InteractiveShell.ast_node_interactivity = \"all\"\n",
    "import sys, os\n",
    "sys.path.append('./pyFM/')\n",
    "sys.path.append('./VisualizationTools/')\n"
   ]
  },
  {
   "cell_type": "code",
   "execution_count": null,
   "id": "916bb569",
   "metadata": {
    "ExecuteTime": {
     "end_time": "2023-06-07T16:43:00.196971Z",
     "start_time": "2023-06-07T16:42:58.838711Z"
    }
   },
   "outputs": [],
   "source": [
    "import large_mesh as lmu\n",
    "import VisualizationTools as plu\n",
    "\n",
    "from pyFM.mesh import TriMesh"
   ]
  },
  {
   "cell_type": "code",
   "execution_count": null,
   "id": "190f43cb",
   "metadata": {
    "ExecuteTime": {
     "end_time": "2023-06-07T16:43:53.030893Z",
     "start_time": "2023-06-07T16:43:51.710503Z"
    }
   },
   "outputs": [],
   "source": [
    "mesh1 = TriMesh(\"./data/40.off\",area_normalize=True, center=True).process(k=0, intrinsic=True)\n",
    "mesh1.n_vertices"
   ]
  },
  {
   "cell_type": "code",
   "execution_count": null,
   "id": "8ecc8e52",
   "metadata": {
    "ExecuteTime": {
     "end_time": "2023-06-07T16:44:11.363256Z",
     "start_time": "2023-06-07T16:44:11.284827Z"
    }
   },
   "outputs": [],
   "source": [
    "process_params = {\n",
    "    'dist_ratio': 3,\n",
    "    'self_limit': .25,\n",
    "    'correct_dist': False,\n",
    "    'interpolation': 'poly',\n",
    "    'return_dist': True,\n",
    "    'adapt_radius': True,\n",
    "    'n_jobs':10,\n",
    "    'n_clusters': 100,\n",
    "    'verbose': True\n",
    "}\n",
    "\n",
    "n_samples = 2000"
   ]
  },
  {
   "cell_type": "code",
   "execution_count": null,
   "id": "b9bb2c7e",
   "metadata": {
    "ExecuteTime": {
     "end_time": "2023-06-07T16:44:14.170489Z",
     "start_time": "2023-06-07T16:44:11.579780Z"
    }
   },
   "outputs": [],
   "source": [
    "U1, Ab1, Wb1, sub1, distmat1 = lmu.process_mesh(mesh1, n_samples, **process_params)\n",
    "evals1, evects1 = lmu.get_approx_spectrum(Wb1, Ab1, verbose=True)"
   ]
  },
  {
   "cell_type": "code",
   "execution_count": null,
   "id": "9716eb68",
   "metadata": {
    "ExecuteTime": {
     "end_time": "2023-06-07T16:44:14.322745Z",
     "start_time": "2023-06-07T16:44:14.253815Z"
    }
   },
   "outputs": [],
   "source": [
    "plu.plot(mesh1, points=sub1, cmap_p=evects1[:,1], colormap=\"coolwarm\")"
   ]
  },
  {
   "cell_type": "code",
   "execution_count": null,
   "id": "5438c826",
   "metadata": {},
   "outputs": [],
   "source": []
  }
 ],
 "metadata": {
  "kernelspec": {
   "display_name": "Python 3 (ipykernel)",
   "language": "python",
   "name": "python3"
  },
  "language_info": {
   "codemirror_mode": {
    "name": "ipython",
    "version": 3
   },
   "file_extension": ".py",
   "mimetype": "text/x-python",
   "name": "python",
   "nbconvert_exporter": "python",
   "pygments_lexer": "ipython3",
   "version": "3.9.13"
  },
  "toc": {
   "base_numbering": 1,
   "nav_menu": {},
   "number_sections": true,
   "sideBar": true,
   "skip_h1_title": false,
   "title_cell": "Table of Contents",
   "title_sidebar": "Contents",
   "toc_cell": false,
   "toc_position": {},
   "toc_section_display": true,
   "toc_window_display": false
  }
 },
 "nbformat": 4,
 "nbformat_minor": 5
}
